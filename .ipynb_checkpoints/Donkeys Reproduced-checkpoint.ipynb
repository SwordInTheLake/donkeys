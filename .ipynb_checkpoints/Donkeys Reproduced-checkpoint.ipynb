{
 "cells": [
  {
   "cell_type": "code",
   "execution_count": 1,
   "metadata": {},
   "outputs": [],
   "source": [
    "import numpy as np\n",
    "import pandas as pd\n",
    "import matplotlib.pyplot as plt"
   ]
  },
  {
   "cell_type": "code",
   "execution_count": 2,
   "metadata": {},
   "outputs": [
    {
     "data": {
      "text/plain": [
       "2.302585092994046"
      ]
     },
     "execution_count": 2,
     "metadata": {},
     "output_type": "execute_result"
    }
   ],
   "source": [
    "np.log(10)"
   ]
  },
  {
   "cell_type": "code",
   "execution_count": 3,
   "metadata": {},
   "outputs": [],
   "source": [
    "def f(girth):\n",
    "    return -107.0 + 19.91*np.log(girth)"
   ]
  },
  {
   "cell_type": "code",
   "execution_count": 4,
   "metadata": {},
   "outputs": [],
   "source": [
    "def g(length):\n",
    "    return 7.712*np.log(length)"
   ]
  },
  {
   "cell_type": "code",
   "execution_count": 5,
   "metadata": {},
   "outputs": [],
   "source": [
    "bcs_dict = {}\n",
    "age_dict = {}\n",
    "bcs_dict[1.5] = -10\n",
    "bcs_dict[2.0] = -6\n",
    "bcs_dict[2.5] = -5\n",
    "bcs_dict[3.0] = 0\n",
    "bcs_dict[3.5] = 6\n",
    "bcs_dict[4.0] = 14\n",
    "age_dict['<2'] = -8\n",
    "age_dict['2-5'] = -4\n",
    "age_dict['5-10'] = 0\n",
    "age_dict['10-15'] = 0\n",
    "age_dict['15-20'] = 0\n",
    "age_dict['>20'] = 0"
   ]
  },
  {
   "cell_type": "code",
   "execution_count": 6,
   "metadata": {},
   "outputs": [],
   "source": [
    "def h_inverse(h):\n",
    "    return ((h/2)+1)**2"
   ]
  },
  {
   "cell_type": "code",
   "execution_count": 7,
   "metadata": {},
   "outputs": [],
   "source": [
    "#Get prediction based on attributes\n",
    "def get_weight(bcs, age, length, girth):\n",
    "    bcs_change = bcs_dict[bcs]\n",
    "    age_change = age_dict[age]\n",
    "    return h_inverse(f(girth) + g(length))+ bcs_change + age_change"
   ]
  },
  {
   "cell_type": "code",
   "execution_count": 8,
   "metadata": {},
   "outputs": [
    {
     "name": "stdout",
     "output_type": "stream",
     "text": [
      "174.12239409550034\n"
     ]
    }
   ],
   "source": [
    "#Reproducing example given\n",
    "print(get_weight(3, '5-10', 103, 122))"
   ]
  },
  {
   "cell_type": "code",
   "execution_count": 9,
   "metadata": {},
   "outputs": [],
   "source": [
    "df = pd.read_csv('mysavefile.csv')"
   ]
  },
  {
   "cell_type": "code",
   "execution_count": 10,
   "metadata": {},
   "outputs": [
    {
     "data": {
      "text/html": [
       "<div>\n",
       "<style scoped>\n",
       "    .dataframe tbody tr th:only-of-type {\n",
       "        vertical-align: middle;\n",
       "    }\n",
       "\n",
       "    .dataframe tbody tr th {\n",
       "        vertical-align: top;\n",
       "    }\n",
       "\n",
       "    .dataframe thead th {\n",
       "        text-align: right;\n",
       "    }\n",
       "</style>\n",
       "<table border=\"1\" class=\"dataframe\">\n",
       "  <thead>\n",
       "    <tr style=\"text-align: right;\">\n",
       "      <th></th>\n",
       "      <th>Unnamed: 0</th>\n",
       "      <th>BCS</th>\n",
       "      <th>Age</th>\n",
       "      <th>Sex</th>\n",
       "      <th>Length</th>\n",
       "      <th>Girth</th>\n",
       "      <th>Height</th>\n",
       "      <th>Weight</th>\n",
       "      <th>WeightAlt</th>\n",
       "    </tr>\n",
       "  </thead>\n",
       "  <tbody>\n",
       "    <tr>\n",
       "      <th>0</th>\n",
       "      <td>1</td>\n",
       "      <td>3.0</td>\n",
       "      <td>&lt;2</td>\n",
       "      <td>stallion</td>\n",
       "      <td>78</td>\n",
       "      <td>90</td>\n",
       "      <td>90</td>\n",
       "      <td>77</td>\n",
       "      <td>NaN</td>\n",
       "    </tr>\n",
       "    <tr>\n",
       "      <th>1</th>\n",
       "      <td>2</td>\n",
       "      <td>2.5</td>\n",
       "      <td>&lt;2</td>\n",
       "      <td>stallion</td>\n",
       "      <td>91</td>\n",
       "      <td>97</td>\n",
       "      <td>94</td>\n",
       "      <td>100</td>\n",
       "      <td>NaN</td>\n",
       "    </tr>\n",
       "    <tr>\n",
       "      <th>2</th>\n",
       "      <td>3</td>\n",
       "      <td>1.5</td>\n",
       "      <td>&lt;2</td>\n",
       "      <td>stallion</td>\n",
       "      <td>74</td>\n",
       "      <td>93</td>\n",
       "      <td>95</td>\n",
       "      <td>74</td>\n",
       "      <td>NaN</td>\n",
       "    </tr>\n",
       "    <tr>\n",
       "      <th>3</th>\n",
       "      <td>4</td>\n",
       "      <td>3.0</td>\n",
       "      <td>&lt;2</td>\n",
       "      <td>female</td>\n",
       "      <td>87</td>\n",
       "      <td>109</td>\n",
       "      <td>96</td>\n",
       "      <td>116</td>\n",
       "      <td>NaN</td>\n",
       "    </tr>\n",
       "    <tr>\n",
       "      <th>4</th>\n",
       "      <td>5</td>\n",
       "      <td>2.5</td>\n",
       "      <td>&lt;2</td>\n",
       "      <td>female</td>\n",
       "      <td>79</td>\n",
       "      <td>98</td>\n",
       "      <td>91</td>\n",
       "      <td>91</td>\n",
       "      <td>NaN</td>\n",
       "    </tr>\n",
       "  </tbody>\n",
       "</table>\n",
       "</div>"
      ],
      "text/plain": [
       "   Unnamed: 0  BCS Age       Sex  Length  Girth  Height  Weight  WeightAlt\n",
       "0           1  3.0  <2  stallion      78     90      90      77        NaN\n",
       "1           2  2.5  <2  stallion      91     97      94     100        NaN\n",
       "2           3  1.5  <2  stallion      74     93      95      74        NaN\n",
       "3           4  3.0  <2    female      87    109      96     116        NaN\n",
       "4           5  2.5  <2    female      79     98      91      91        NaN"
      ]
     },
     "execution_count": 10,
     "metadata": {},
     "output_type": "execute_result"
    }
   ],
   "source": [
    "df.head()"
   ]
  },
  {
   "cell_type": "code",
   "execution_count": 11,
   "metadata": {},
   "outputs": [],
   "source": [
    "weights = list(df['Weight'])"
   ]
  },
  {
   "cell_type": "code",
   "execution_count": 12,
   "metadata": {},
   "outputs": [],
   "source": [
    "weights.sort()"
   ]
  },
  {
   "cell_type": "code",
   "execution_count": 13,
   "metadata": {},
   "outputs": [
    {
     "name": "stdout",
     "output_type": "stream",
     "text": [
      "[27, 65, 71, 72, 74]\n"
     ]
    }
   ],
   "source": [
    "print(weights[:5])\n",
    "#Assume donkey with weight 27 kilos "
   ]
  },
  {
   "cell_type": "code",
   "execution_count": 14,
   "metadata": {},
   "outputs": [
    {
     "data": {
      "text/html": [
       "<div>\n",
       "<style scoped>\n",
       "    .dataframe tbody tr th:only-of-type {\n",
       "        vertical-align: middle;\n",
       "    }\n",
       "\n",
       "    .dataframe tbody tr th {\n",
       "        vertical-align: top;\n",
       "    }\n",
       "\n",
       "    .dataframe thead th {\n",
       "        text-align: right;\n",
       "    }\n",
       "</style>\n",
       "<table border=\"1\" class=\"dataframe\">\n",
       "  <thead>\n",
       "    <tr style=\"text-align: right;\">\n",
       "      <th></th>\n",
       "      <th>Unnamed: 0</th>\n",
       "      <th>BCS</th>\n",
       "      <th>Age</th>\n",
       "      <th>Sex</th>\n",
       "      <th>Length</th>\n",
       "      <th>Girth</th>\n",
       "      <th>Height</th>\n",
       "      <th>Weight</th>\n",
       "      <th>WeightAlt</th>\n",
       "    </tr>\n",
       "  </thead>\n",
       "  <tbody>\n",
       "    <tr>\n",
       "      <th>8</th>\n",
       "      <td>9</td>\n",
       "      <td>3.0</td>\n",
       "      <td>&lt;2</td>\n",
       "      <td>stallion</td>\n",
       "      <td>46</td>\n",
       "      <td>66</td>\n",
       "      <td>71</td>\n",
       "      <td>27</td>\n",
       "      <td>NaN</td>\n",
       "    </tr>\n",
       "  </tbody>\n",
       "</table>\n",
       "</div>"
      ],
      "text/plain": [
       "   Unnamed: 0  BCS Age       Sex  Length  Girth  Height  Weight  WeightAlt\n",
       "8           9  3.0  <2  stallion      46     66      71      27        NaN"
      ]
     },
     "execution_count": 14,
     "metadata": {},
     "output_type": "execute_result"
    }
   ],
   "source": [
    "df[df['Weight']==27]"
   ]
  },
  {
   "cell_type": "code",
   "execution_count": 15,
   "metadata": {},
   "outputs": [
    {
     "data": {
      "text/html": [
       "<div>\n",
       "<style scoped>\n",
       "    .dataframe tbody tr th:only-of-type {\n",
       "        vertical-align: middle;\n",
       "    }\n",
       "\n",
       "    .dataframe tbody tr th {\n",
       "        vertical-align: top;\n",
       "    }\n",
       "\n",
       "    .dataframe thead th {\n",
       "        text-align: right;\n",
       "    }\n",
       "</style>\n",
       "<table border=\"1\" class=\"dataframe\">\n",
       "  <thead>\n",
       "    <tr style=\"text-align: right;\">\n",
       "      <th></th>\n",
       "      <th>Unnamed: 0</th>\n",
       "      <th>BCS</th>\n",
       "      <th>Age</th>\n",
       "      <th>Sex</th>\n",
       "      <th>Length</th>\n",
       "      <th>Girth</th>\n",
       "      <th>Height</th>\n",
       "      <th>Weight</th>\n",
       "      <th>WeightAlt</th>\n",
       "    </tr>\n",
       "  </thead>\n",
       "  <tbody>\n",
       "    <tr>\n",
       "      <th>445</th>\n",
       "      <td>446</td>\n",
       "      <td>1.0</td>\n",
       "      <td>&gt;20</td>\n",
       "      <td>female</td>\n",
       "      <td>97</td>\n",
       "      <td>109</td>\n",
       "      <td>102</td>\n",
       "      <td>115</td>\n",
       "      <td>NaN</td>\n",
       "    </tr>\n",
       "  </tbody>\n",
       "</table>\n",
       "</div>"
      ],
      "text/plain": [
       "     Unnamed: 0  BCS  Age     Sex  Length  Girth  Height  Weight  WeightAlt\n",
       "445         446  1.0  >20  female      97    109     102     115        NaN"
      ]
     },
     "execution_count": 15,
     "metadata": {},
     "output_type": "execute_result"
    }
   ],
   "source": [
    "df[df['BCS']==1.0]"
   ]
  },
  {
   "cell_type": "code",
   "execution_count": 16,
   "metadata": {},
   "outputs": [
    {
     "data": {
      "text/html": [
       "<div>\n",
       "<style scoped>\n",
       "    .dataframe tbody tr th:only-of-type {\n",
       "        vertical-align: middle;\n",
       "    }\n",
       "\n",
       "    .dataframe tbody tr th {\n",
       "        vertical-align: top;\n",
       "    }\n",
       "\n",
       "    .dataframe thead th {\n",
       "        text-align: right;\n",
       "    }\n",
       "</style>\n",
       "<table border=\"1\" class=\"dataframe\">\n",
       "  <thead>\n",
       "    <tr style=\"text-align: right;\">\n",
       "      <th></th>\n",
       "      <th>Unnamed: 0</th>\n",
       "      <th>BCS</th>\n",
       "      <th>Age</th>\n",
       "      <th>Sex</th>\n",
       "      <th>Length</th>\n",
       "      <th>Girth</th>\n",
       "      <th>Height</th>\n",
       "      <th>Weight</th>\n",
       "      <th>WeightAlt</th>\n",
       "    </tr>\n",
       "  </thead>\n",
       "  <tbody>\n",
       "    <tr>\n",
       "      <th>291</th>\n",
       "      <td>292</td>\n",
       "      <td>4.5</td>\n",
       "      <td>10-15</td>\n",
       "      <td>female</td>\n",
       "      <td>107</td>\n",
       "      <td>130</td>\n",
       "      <td>106</td>\n",
       "      <td>227</td>\n",
       "      <td>NaN</td>\n",
       "    </tr>\n",
       "  </tbody>\n",
       "</table>\n",
       "</div>"
      ],
      "text/plain": [
       "     Unnamed: 0  BCS    Age     Sex  Length  Girth  Height  Weight  WeightAlt\n",
       "291         292  4.5  10-15  female     107    130     106     227        NaN"
      ]
     },
     "execution_count": 16,
     "metadata": {},
     "output_type": "execute_result"
    }
   ],
   "source": [
    "df[df['BCS']==4.5]"
   ]
  },
  {
   "cell_type": "code",
   "execution_count": 17,
   "metadata": {},
   "outputs": [],
   "source": [
    "df = df.drop([8,291,445])"
   ]
  },
  {
   "cell_type": "code",
   "execution_count": 18,
   "metadata": {},
   "outputs": [],
   "source": [
    "df = df.sort_values('Weight', ignore_index = True)"
   ]
  },
  {
   "cell_type": "code",
   "execution_count": 19,
   "metadata": {},
   "outputs": [],
   "source": [
    "train = df[df.index % 5 != 4]  \n",
    "test = df[df.index % 5 == 4]"
   ]
  },
  {
   "cell_type": "code",
   "execution_count": 20,
   "metadata": {},
   "outputs": [
    {
     "data": {
      "text/html": [
       "<div>\n",
       "<style scoped>\n",
       "    .dataframe tbody tr th:only-of-type {\n",
       "        vertical-align: middle;\n",
       "    }\n",
       "\n",
       "    .dataframe tbody tr th {\n",
       "        vertical-align: top;\n",
       "    }\n",
       "\n",
       "    .dataframe thead th {\n",
       "        text-align: right;\n",
       "    }\n",
       "</style>\n",
       "<table border=\"1\" class=\"dataframe\">\n",
       "  <thead>\n",
       "    <tr style=\"text-align: right;\">\n",
       "      <th></th>\n",
       "      <th>Unnamed: 0</th>\n",
       "      <th>BCS</th>\n",
       "      <th>Age</th>\n",
       "      <th>Sex</th>\n",
       "      <th>Length</th>\n",
       "      <th>Girth</th>\n",
       "      <th>Height</th>\n",
       "      <th>Weight</th>\n",
       "      <th>WeightAlt</th>\n",
       "    </tr>\n",
       "  </thead>\n",
       "  <tbody>\n",
       "    <tr>\n",
       "      <th>4</th>\n",
       "      <td>45</td>\n",
       "      <td>3.0</td>\n",
       "      <td>&lt;2</td>\n",
       "      <td>female</td>\n",
       "      <td>80</td>\n",
       "      <td>94</td>\n",
       "      <td>89</td>\n",
       "      <td>75</td>\n",
       "      <td>NaN</td>\n",
       "    </tr>\n",
       "    <tr>\n",
       "      <th>9</th>\n",
       "      <td>33</td>\n",
       "      <td>2.5</td>\n",
       "      <td>&lt;2</td>\n",
       "      <td>stallion</td>\n",
       "      <td>72</td>\n",
       "      <td>97</td>\n",
       "      <td>94</td>\n",
       "      <td>89</td>\n",
       "      <td>NaN</td>\n",
       "    </tr>\n",
       "    <tr>\n",
       "      <th>14</th>\n",
       "      <td>17</td>\n",
       "      <td>2.5</td>\n",
       "      <td>&lt;2</td>\n",
       "      <td>stallion</td>\n",
       "      <td>79</td>\n",
       "      <td>100</td>\n",
       "      <td>90</td>\n",
       "      <td>94</td>\n",
       "      <td>NaN</td>\n",
       "    </tr>\n",
       "    <tr>\n",
       "      <th>19</th>\n",
       "      <td>37</td>\n",
       "      <td>2.5</td>\n",
       "      <td>&lt;2</td>\n",
       "      <td>female</td>\n",
       "      <td>87</td>\n",
       "      <td>100</td>\n",
       "      <td>98</td>\n",
       "      <td>96</td>\n",
       "      <td>NaN</td>\n",
       "    </tr>\n",
       "    <tr>\n",
       "      <th>24</th>\n",
       "      <td>24</td>\n",
       "      <td>2.5</td>\n",
       "      <td>&lt;2</td>\n",
       "      <td>female</td>\n",
       "      <td>85</td>\n",
       "      <td>100</td>\n",
       "      <td>96</td>\n",
       "      <td>102</td>\n",
       "      <td>NaN</td>\n",
       "    </tr>\n",
       "  </tbody>\n",
       "</table>\n",
       "</div>"
      ],
      "text/plain": [
       "    Unnamed: 0  BCS Age       Sex  Length  Girth  Height  Weight  WeightAlt\n",
       "4           45  3.0  <2    female      80     94      89      75        NaN\n",
       "9           33  2.5  <2  stallion      72     97      94      89        NaN\n",
       "14          17  2.5  <2  stallion      79    100      90      94        NaN\n",
       "19          37  2.5  <2    female      87    100      98      96        NaN\n",
       "24          24  2.5  <2    female      85    100      96     102        NaN"
      ]
     },
     "execution_count": 20,
     "metadata": {},
     "output_type": "execute_result"
    }
   ],
   "source": [
    "test.head()"
   ]
  },
  {
   "cell_type": "code",
   "execution_count": 21,
   "metadata": {},
   "outputs": [
    {
     "name": "stderr",
     "output_type": "stream",
     "text": [
      "/opt/anaconda3/lib/python3.7/site-packages/ipykernel_launcher.py:1: SettingWithCopyWarning: \n",
      "A value is trying to be set on a copy of a slice from a DataFrame.\n",
      "Try using .loc[row_indexer,col_indexer] = value instead\n",
      "\n",
      "See the caveats in the documentation: https://pandas.pydata.org/pandas-docs/stable/user_guide/indexing.html#returning-a-view-versus-a-copy\n",
      "  \"\"\"Entry point for launching an IPython kernel.\n"
     ]
    }
   ],
   "source": [
    "test['Prediction'] = np.nan"
   ]
  },
  {
   "cell_type": "code",
   "execution_count": 22,
   "metadata": {},
   "outputs": [],
   "source": [
    "for index, row in test.iterrows():\n",
    "    bcs = row['BCS']\n",
    "    age = row['Age']\n",
    "    girth = row['Girth']\n",
    "    length = row['Length']\n",
    "    test.at[index,'Prediction'] = get_weight(bcs, age, length, girth)"
   ]
  },
  {
   "cell_type": "code",
   "execution_count": 23,
   "metadata": {},
   "outputs": [
    {
     "data": {
      "text/html": [
       "<div>\n",
       "<style scoped>\n",
       "    .dataframe tbody tr th:only-of-type {\n",
       "        vertical-align: middle;\n",
       "    }\n",
       "\n",
       "    .dataframe tbody tr th {\n",
       "        vertical-align: top;\n",
       "    }\n",
       "\n",
       "    .dataframe thead th {\n",
       "        text-align: right;\n",
       "    }\n",
       "</style>\n",
       "<table border=\"1\" class=\"dataframe\">\n",
       "  <thead>\n",
       "    <tr style=\"text-align: right;\">\n",
       "      <th></th>\n",
       "      <th>Unnamed: 0</th>\n",
       "      <th>BCS</th>\n",
       "      <th>Age</th>\n",
       "      <th>Sex</th>\n",
       "      <th>Length</th>\n",
       "      <th>Girth</th>\n",
       "      <th>Height</th>\n",
       "      <th>Weight</th>\n",
       "      <th>WeightAlt</th>\n",
       "      <th>Prediction</th>\n",
       "    </tr>\n",
       "  </thead>\n",
       "  <tbody>\n",
       "    <tr>\n",
       "      <th>4</th>\n",
       "      <td>45</td>\n",
       "      <td>3.0</td>\n",
       "      <td>&lt;2</td>\n",
       "      <td>female</td>\n",
       "      <td>80</td>\n",
       "      <td>94</td>\n",
       "      <td>89</td>\n",
       "      <td>75</td>\n",
       "      <td>NaN</td>\n",
       "      <td>84.652065</td>\n",
       "    </tr>\n",
       "    <tr>\n",
       "      <th>9</th>\n",
       "      <td>33</td>\n",
       "      <td>2.5</td>\n",
       "      <td>&lt;2</td>\n",
       "      <td>stallion</td>\n",
       "      <td>72</td>\n",
       "      <td>97</td>\n",
       "      <td>94</td>\n",
       "      <td>89</td>\n",
       "      <td>NaN</td>\n",
       "      <td>77.860403</td>\n",
       "    </tr>\n",
       "    <tr>\n",
       "      <th>14</th>\n",
       "      <td>17</td>\n",
       "      <td>2.5</td>\n",
       "      <td>&lt;2</td>\n",
       "      <td>stallion</td>\n",
       "      <td>79</td>\n",
       "      <td>100</td>\n",
       "      <td>90</td>\n",
       "      <td>94</td>\n",
       "      <td>NaN</td>\n",
       "      <td>90.898475</td>\n",
       "    </tr>\n",
       "    <tr>\n",
       "      <th>19</th>\n",
       "      <td>37</td>\n",
       "      <td>2.5</td>\n",
       "      <td>&lt;2</td>\n",
       "      <td>female</td>\n",
       "      <td>87</td>\n",
       "      <td>100</td>\n",
       "      <td>98</td>\n",
       "      <td>96</td>\n",
       "      <td>NaN</td>\n",
       "      <td>98.619455</td>\n",
       "    </tr>\n",
       "    <tr>\n",
       "      <th>24</th>\n",
       "      <td>24</td>\n",
       "      <td>2.5</td>\n",
       "      <td>&lt;2</td>\n",
       "      <td>female</td>\n",
       "      <td>85</td>\n",
       "      <td>100</td>\n",
       "      <td>96</td>\n",
       "      <td>102</td>\n",
       "      <td>NaN</td>\n",
       "      <td>96.732590</td>\n",
       "    </tr>\n",
       "  </tbody>\n",
       "</table>\n",
       "</div>"
      ],
      "text/plain": [
       "    Unnamed: 0  BCS Age       Sex  Length  Girth  Height  Weight  WeightAlt  \\\n",
       "4           45  3.0  <2    female      80     94      89      75        NaN   \n",
       "9           33  2.5  <2  stallion      72     97      94      89        NaN   \n",
       "14          17  2.5  <2  stallion      79    100      90      94        NaN   \n",
       "19          37  2.5  <2    female      87    100      98      96        NaN   \n",
       "24          24  2.5  <2    female      85    100      96     102        NaN   \n",
       "\n",
       "    Prediction  \n",
       "4    84.652065  \n",
       "9    77.860403  \n",
       "14   90.898475  \n",
       "19   98.619455  \n",
       "24   96.732590  "
      ]
     },
     "execution_count": 23,
     "metadata": {},
     "output_type": "execute_result"
    }
   ],
   "source": [
    "test.head()"
   ]
  },
  {
   "cell_type": "code",
   "execution_count": 24,
   "metadata": {},
   "outputs": [],
   "source": [
    "true_weights = np.array(test['Weight'])\n",
    "predicted_weights = np.array(test['Prediction'])"
   ]
  },
  {
   "cell_type": "code",
   "execution_count": 25,
   "metadata": {},
   "outputs": [
    {
     "data": {
      "text/plain": [
       "Text(0, 0.5, 'Actual weight, kg')"
      ]
     },
     "execution_count": 25,
     "metadata": {},
     "output_type": "execute_result"
    },
    {
     "data": {
      "image/png": "[encoded data removed]",
      "text/plain": [
       "<Figure size 720x720 with 1 Axes>"
      ]
     },
     "metadata": {
      "needs_background": "light"
     },
     "output_type": "display_data"
    }
   ],
   "source": [
    "plt.figure(figsize=(10, 10))\n",
    "y = np.arange(75,226)\n",
    "x_actual = y\n",
    "x_plus10 = y*1.1\n",
    "x_plus20 = y*1.2\n",
    "x_neg10 = y*0.9\n",
    "x_neg20 = y*0.8\n",
    "plt.scatter(predicted_weights, true_weights, s = 20, c='r')\n",
    "#plt.plot(predicted_weights, true_weights,'ro')\n",
    "plt.plot(x_actual, y)\n",
    "plt.plot(x_plus10, y, color='grey', linestyle='dashed')\n",
    "plt.plot(x_neg10, y, color='grey', linestyle='dashed')\n",
    "plt.plot(x_plus20, y, color='grey', linestyle='dotted')\n",
    "plt.plot(x_neg20, y, color='grey', linestyle='dotted')\n",
    "plt.xlim(75,225)\n",
    "plt.xticks(np.arange(75,230,25))\n",
    "plt.yticks(np.arange(75,230,25))\n",
    "plt.xlabel('Predicted weight, kg')\n",
    "plt.ylabel('Actual weight, kg')"
   ]
  },
  {
   "cell_type": "code",
   "execution_count": 26,
   "metadata": {},
   "outputs": [],
   "source": [
    "residuals = true_weights - predicted_weights"
   ]
  },
  {
   "cell_type": "code",
   "execution_count": 27,
   "metadata": {},
   "outputs": [
    {
     "data": {
      "image/png": "[encoded data removed]",
      "text/plain": [
       "<Figure size 576x576 with 1 Axes>"
      ]
     },
     "metadata": {
      "needs_background": "light"
     },
     "output_type": "display_data"
    }
   ],
   "source": [
    "plt.figure(figsize=(8, 8))\n",
    "x = np.arange(1,109)\n",
    "y = np.zeros(108)\n",
    "plt.scatter(x,residuals)\n",
    "plt.plot(x,y,color='r')\n",
    "plt.show()"
   ]
  },
  {
   "cell_type": "code",
   "execution_count": 28,
   "metadata": {},
   "outputs": [
    {
     "name": "stdout",
     "output_type": "stream",
     "text": [
      "82.44431412924769\n"
     ]
    }
   ],
   "source": [
    "MSE = np.mean(residuals**2)\n",
    "print(MSE)"
   ]
  }
 ],
 "metadata": {
  "kernelspec": {
   "display_name": "Python 3",
   "language": "python",
   "name": "python3"
  },
  "language_info": {
   "codemirror_mode": {
    "name": "ipython",
    "version": 3
   },
   "file_extension": ".py",
   "mimetype": "text/x-python",
   "name": "python",
   "nbconvert_exporter": "python",
   "pygments_lexer": "ipython3",
   "version": "3.7.6"
  }
 },
 "nbformat": 4,
 "nbformat_minor": 4
}
