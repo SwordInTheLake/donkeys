{
 "cells": [
  {
   "cell_type": "code",
<<<<<<< HEAD
   "execution_count": 2,
=======
   "execution_count": 14,
>>>>>>> 951a092f7d1e7c28e1c8bdcc796b73ca36634a5c
   "metadata": {},
   "outputs": [],
   "source": [
    "import numpy as np\n",
    "import pandas as pd\n",
<<<<<<< HEAD
    "import matplotlib.pyplot as plt"
   ]
  },
  {
   "cell_type": "code",
   "execution_count": 3,
   "metadata": {},
   "outputs": [
    {
     "data": {
      "text/plain": [
       "2.302585092994046"
      ]
     },
     "execution_count": 3,
     "metadata": {},
     "output_type": "execute_result"
    }
   ],
   "source": [
    "np.log(10)"
   ]
  },
  {
   "cell_type": "code",
   "execution_count": 8,
   "metadata": {},
   "outputs": [],
   "source": [
    "# run `write.csv(donkeys, \"donkeys.csv\")` in your rstudio console after loading in donkeys.rda in rstudio\n",
    "df = pd.read_csv('donkeys.csv')"
   ]
  },
  {
   "cell_type": "code",
   "execution_count": 9,
   "metadata": {},
   "outputs": [],
   "source": [
    "def f(girth):\n",
    "    return -107.0 + 19.91*np.log(girth)"
   ]
  },
  {
   "cell_type": "code",
   "execution_count": 10,
   "metadata": {},
   "outputs": [],
   "source": [
    "def g(length):\n",
    "    return 7.712*np.log(length)"
   ]
  },
  {
   "cell_type": "code",
   "execution_count": 11,
   "metadata": {},
   "outputs": [
    {
     "data": {
      "text/plain": [
       "{'10-15', '15-20', '2-5', '5-10', '<2', '>20'}"
      ]
     },
     "execution_count": 11,
     "metadata": {},
     "output_type": "execute_result"
    }
   ],
   "source": [
    "set(df['Age'])"
   ]
  },
  {
   "cell_type": "code",
   "execution_count": 12,
   "metadata": {},
   "outputs": [],
   "source": [
    "bcs_dict = {}\n",
    "age_dict = {}\n",
    "bcs_dict[1.5] = -10\n",
    "bcs_dict[2.0] = -6\n",
    "bcs_dict[2.5] = -5\n",
    "bcs_dict[3.0] = 0\n",
    "bcs_dict[3.5] = 6\n",
    "bcs_dict[4.0] = 14\n",
    "age_dict['<2'] = -8\n",
    "age_dict['2-5'] = -4\n",
    "age_dict['5-10'] = 0\n",
    "age_dict['10-15'] = 0\n",
    "age_dict['15-20'] = 0\n",
    "age_dict['>20'] = 0"
   ]
  },
  {
   "cell_type": "code",
   "execution_count": 13,
   "metadata": {},
   "outputs": [],
   "source": [
    "def h_inverse(h):\n",
    "    return ((h/2)+1)**2"
   ]
  },
  {
   "cell_type": "code",
   "execution_count": 14,
   "metadata": {},
   "outputs": [],
   "source": [
    "#Get prediction based on attributes\n",
    "def get_weight(bcs, age, length, girth):\n",
    "    bcs_change = bcs_dict[bcs]\n",
    "    age_change = age_dict[age]\n",
    "    return h_inverse(f(girth) + g(length))+ bcs_change + age_change"
=======
    "import matplotlib.pyplot as plt\n",
    "import statsmodels.formula.api as sm"
>>>>>>> 951a092f7d1e7c28e1c8bdcc796b73ca36634a5c
   ]
  },
  {
   "cell_type": "code",
   "execution_count": 15,
   "metadata": {},
<<<<<<< HEAD
   "outputs": [
    {
     "name": "stdout",
     "output_type": "stream",
     "text": [
      "174.12239409550034\n"
     ]
    }
   ],
   "source": [
    "#Reproducing example given\n",
    "print(get_weight(3, '5-10', 103, 122))"
=======
   "outputs": [],
   "source": [
    "df = pd.read_csv('mysavefile.csv')"
>>>>>>> 951a092f7d1e7c28e1c8bdcc796b73ca36634a5c
   ]
  },
  {
   "cell_type": "code",
   "execution_count": 16,
   "metadata": {},
   "outputs": [
    {
     "data": {
      "text/html": [
       "<div>\n",
       "<style scoped>\n",
       "    .dataframe tbody tr th:only-of-type {\n",
       "        vertical-align: middle;\n",
       "    }\n",
       "\n",
       "    .dataframe tbody tr th {\n",
       "        vertical-align: top;\n",
       "    }\n",
       "\n",
       "    .dataframe thead th {\n",
       "        text-align: right;\n",
       "    }\n",
       "</style>\n",
       "<table border=\"1\" class=\"dataframe\">\n",
       "  <thead>\n",
       "    <tr style=\"text-align: right;\">\n",
       "      <th></th>\n",
       "      <th>Unnamed: 0</th>\n",
       "      <th>BCS</th>\n",
       "      <th>Age</th>\n",
       "      <th>Sex</th>\n",
       "      <th>Length</th>\n",
       "      <th>Girth</th>\n",
       "      <th>Height</th>\n",
       "      <th>Weight</th>\n",
       "      <th>WeightAlt</th>\n",
       "    </tr>\n",
       "  </thead>\n",
       "  <tbody>\n",
       "    <tr>\n",
<<<<<<< HEAD
       "      <td>0</td>\n",
=======
       "      <th>0</th>\n",
>>>>>>> 951a092f7d1e7c28e1c8bdcc796b73ca36634a5c
       "      <td>1</td>\n",
       "      <td>3.0</td>\n",
       "      <td>&lt;2</td>\n",
       "      <td>stallion</td>\n",
       "      <td>78</td>\n",
       "      <td>90</td>\n",
       "      <td>90</td>\n",
       "      <td>77</td>\n",
       "      <td>NaN</td>\n",
       "    </tr>\n",
       "    <tr>\n",
<<<<<<< HEAD
       "      <td>1</td>\n",
=======
       "      <th>1</th>\n",
>>>>>>> 951a092f7d1e7c28e1c8bdcc796b73ca36634a5c
       "      <td>2</td>\n",
       "      <td>2.5</td>\n",
       "      <td>&lt;2</td>\n",
       "      <td>stallion</td>\n",
       "      <td>91</td>\n",
       "      <td>97</td>\n",
       "      <td>94</td>\n",
       "      <td>100</td>\n",
       "      <td>NaN</td>\n",
       "    </tr>\n",
       "    <tr>\n",
<<<<<<< HEAD
       "      <td>2</td>\n",
=======
       "      <th>2</th>\n",
>>>>>>> 951a092f7d1e7c28e1c8bdcc796b73ca36634a5c
       "      <td>3</td>\n",
       "      <td>1.5</td>\n",
       "      <td>&lt;2</td>\n",
       "      <td>stallion</td>\n",
       "      <td>74</td>\n",
       "      <td>93</td>\n",
       "      <td>95</td>\n",
       "      <td>74</td>\n",
       "      <td>NaN</td>\n",
       "    </tr>\n",
       "    <tr>\n",
<<<<<<< HEAD
       "      <td>3</td>\n",
=======
       "      <th>3</th>\n",
>>>>>>> 951a092f7d1e7c28e1c8bdcc796b73ca36634a5c
       "      <td>4</td>\n",
       "      <td>3.0</td>\n",
       "      <td>&lt;2</td>\n",
       "      <td>female</td>\n",
       "      <td>87</td>\n",
       "      <td>109</td>\n",
       "      <td>96</td>\n",
       "      <td>116</td>\n",
       "      <td>NaN</td>\n",
       "    </tr>\n",
       "    <tr>\n",
<<<<<<< HEAD
       "      <td>4</td>\n",
=======
       "      <th>4</th>\n",
>>>>>>> 951a092f7d1e7c28e1c8bdcc796b73ca36634a5c
       "      <td>5</td>\n",
       "      <td>2.5</td>\n",
       "      <td>&lt;2</td>\n",
       "      <td>female</td>\n",
       "      <td>79</td>\n",
       "      <td>98</td>\n",
       "      <td>91</td>\n",
       "      <td>91</td>\n",
       "      <td>NaN</td>\n",
       "    </tr>\n",
       "  </tbody>\n",
       "</table>\n",
       "</div>"
      ],
      "text/plain": [
       "   Unnamed: 0  BCS Age       Sex  Length  Girth  Height  Weight  WeightAlt\n",
       "0           1  3.0  <2  stallion      78     90      90      77        NaN\n",
       "1           2  2.5  <2  stallion      91     97      94     100        NaN\n",
       "2           3  1.5  <2  stallion      74     93      95      74        NaN\n",
       "3           4  3.0  <2    female      87    109      96     116        NaN\n",
       "4           5  2.5  <2    female      79     98      91      91        NaN"
      ]
     },
     "execution_count": 16,
     "metadata": {},
     "output_type": "execute_result"
    }
   ],
   "source": [
    "df.head()"
   ]
  },
  {
   "cell_type": "code",
<<<<<<< HEAD
   "execution_count": 21,
   "metadata": {},
   "outputs": [],
   "source": [
    "weights = list(df['Weight'])"
   ]
  },
  {
   "cell_type": "code",
   "execution_count": 22,
   "metadata": {},
   "outputs": [],
   "source": [
    "weights.sort()"
   ]
  },
  {
   "cell_type": "code",
   "execution_count": 23,
=======
   "execution_count": 17,
>>>>>>> 951a092f7d1e7c28e1c8bdcc796b73ca36634a5c
   "metadata": {},
   "outputs": [
    {
     "name": "stdout",
     "output_type": "stream",
     "text": [
      "[27, 65, 71, 72, 74]\n"
     ]
    }
   ],
   "source": [
<<<<<<< HEAD
    "print(weights[:5])\n",
    "#Assume donkey with weight 27 kilos "
=======
    "weights = list(df['Weight'])\n",
    "weights.sort()\n",
    "print(weights[:5])"
>>>>>>> 951a092f7d1e7c28e1c8bdcc796b73ca36634a5c
   ]
  },
  {
   "cell_type": "code",
<<<<<<< HEAD
   "execution_count": 24,
=======
   "execution_count": 18,
>>>>>>> 951a092f7d1e7c28e1c8bdcc796b73ca36634a5c
   "metadata": {},
   "outputs": [
    {
     "data": {
      "text/html": [
       "<div>\n",
       "<style scoped>\n",
       "    .dataframe tbody tr th:only-of-type {\n",
       "        vertical-align: middle;\n",
       "    }\n",
       "\n",
       "    .dataframe tbody tr th {\n",
       "        vertical-align: top;\n",
       "    }\n",
       "\n",
       "    .dataframe thead th {\n",
       "        text-align: right;\n",
       "    }\n",
       "</style>\n",
       "<table border=\"1\" class=\"dataframe\">\n",
       "  <thead>\n",
       "    <tr style=\"text-align: right;\">\n",
       "      <th></th>\n",
       "      <th>Unnamed: 0</th>\n",
       "      <th>BCS</th>\n",
       "      <th>Age</th>\n",
       "      <th>Sex</th>\n",
       "      <th>Length</th>\n",
       "      <th>Girth</th>\n",
       "      <th>Height</th>\n",
       "      <th>Weight</th>\n",
       "      <th>WeightAlt</th>\n",
       "    </tr>\n",
       "  </thead>\n",
       "  <tbody>\n",
       "    <tr>\n",
<<<<<<< HEAD
       "      <td>8</td>\n",
=======
       "      <th>8</th>\n",
>>>>>>> 951a092f7d1e7c28e1c8bdcc796b73ca36634a5c
       "      <td>9</td>\n",
       "      <td>3.0</td>\n",
       "      <td>&lt;2</td>\n",
       "      <td>stallion</td>\n",
       "      <td>46</td>\n",
       "      <td>66</td>\n",
       "      <td>71</td>\n",
       "      <td>27</td>\n",
       "      <td>NaN</td>\n",
       "    </tr>\n",
       "  </tbody>\n",
       "</table>\n",
       "</div>"
      ],
      "text/plain": [
       "   Unnamed: 0  BCS Age       Sex  Length  Girth  Height  Weight  WeightAlt\n",
       "8           9  3.0  <2  stallion      46     66      71      27        NaN"
      ]
     },
<<<<<<< HEAD
     "execution_count": 24,
=======
     "execution_count": 18,
>>>>>>> 951a092f7d1e7c28e1c8bdcc796b73ca36634a5c
     "metadata": {},
     "output_type": "execute_result"
    }
   ],
   "source": [
<<<<<<< HEAD
=======
    "#Assume donkey with weight 27 kilos \n",
>>>>>>> 951a092f7d1e7c28e1c8bdcc796b73ca36634a5c
    "df[df['Weight']==27]"
   ]
  },
  {
   "cell_type": "code",
<<<<<<< HEAD
   "execution_count": 25,
=======
   "execution_count": 19,
>>>>>>> 951a092f7d1e7c28e1c8bdcc796b73ca36634a5c
   "metadata": {},
   "outputs": [
    {
     "data": {
      "text/html": [
       "<div>\n",
       "<style scoped>\n",
       "    .dataframe tbody tr th:only-of-type {\n",
       "        vertical-align: middle;\n",
       "    }\n",
       "\n",
       "    .dataframe tbody tr th {\n",
       "        vertical-align: top;\n",
       "    }\n",
       "\n",
       "    .dataframe thead th {\n",
       "        text-align: right;\n",
       "    }\n",
       "</style>\n",
       "<table border=\"1\" class=\"dataframe\">\n",
       "  <thead>\n",
       "    <tr style=\"text-align: right;\">\n",
       "      <th></th>\n",
       "      <th>Unnamed: 0</th>\n",
       "      <th>BCS</th>\n",
       "      <th>Age</th>\n",
       "      <th>Sex</th>\n",
       "      <th>Length</th>\n",
       "      <th>Girth</th>\n",
       "      <th>Height</th>\n",
       "      <th>Weight</th>\n",
       "      <th>WeightAlt</th>\n",
       "    </tr>\n",
       "  </thead>\n",
       "  <tbody>\n",
       "    <tr>\n",
<<<<<<< HEAD
       "      <td>445</td>\n",
=======
       "      <th>445</th>\n",
>>>>>>> 951a092f7d1e7c28e1c8bdcc796b73ca36634a5c
       "      <td>446</td>\n",
       "      <td>1.0</td>\n",
       "      <td>&gt;20</td>\n",
       "      <td>female</td>\n",
       "      <td>97</td>\n",
       "      <td>109</td>\n",
       "      <td>102</td>\n",
       "      <td>115</td>\n",
       "      <td>NaN</td>\n",
       "    </tr>\n",
       "  </tbody>\n",
       "</table>\n",
       "</div>"
      ],
      "text/plain": [
       "     Unnamed: 0  BCS  Age     Sex  Length  Girth  Height  Weight  WeightAlt\n",
       "445         446  1.0  >20  female      97    109     102     115        NaN"
      ]
     },
<<<<<<< HEAD
     "execution_count": 25,
=======
     "execution_count": 19,
>>>>>>> 951a092f7d1e7c28e1c8bdcc796b73ca36634a5c
     "metadata": {},
     "output_type": "execute_result"
    }
   ],
   "source": [
    "df[df['BCS']==1.0]"
   ]
  },
  {
   "cell_type": "code",
<<<<<<< HEAD
   "execution_count": 26,
=======
   "execution_count": 20,
>>>>>>> 951a092f7d1e7c28e1c8bdcc796b73ca36634a5c
   "metadata": {},
   "outputs": [
    {
     "data": {
      "text/html": [
       "<div>\n",
       "<style scoped>\n",
       "    .dataframe tbody tr th:only-of-type {\n",
       "        vertical-align: middle;\n",
       "    }\n",
       "\n",
       "    .dataframe tbody tr th {\n",
       "        vertical-align: top;\n",
       "    }\n",
       "\n",
       "    .dataframe thead th {\n",
       "        text-align: right;\n",
       "    }\n",
       "</style>\n",
       "<table border=\"1\" class=\"dataframe\">\n",
       "  <thead>\n",
       "    <tr style=\"text-align: right;\">\n",
       "      <th></th>\n",
       "      <th>Unnamed: 0</th>\n",
       "      <th>BCS</th>\n",
       "      <th>Age</th>\n",
       "      <th>Sex</th>\n",
       "      <th>Length</th>\n",
       "      <th>Girth</th>\n",
       "      <th>Height</th>\n",
       "      <th>Weight</th>\n",
       "      <th>WeightAlt</th>\n",
       "    </tr>\n",
       "  </thead>\n",
       "  <tbody>\n",
       "    <tr>\n",
<<<<<<< HEAD
       "      <td>291</td>\n",
=======
       "      <th>291</th>\n",
>>>>>>> 951a092f7d1e7c28e1c8bdcc796b73ca36634a5c
       "      <td>292</td>\n",
       "      <td>4.5</td>\n",
       "      <td>10-15</td>\n",
       "      <td>female</td>\n",
       "      <td>107</td>\n",
       "      <td>130</td>\n",
       "      <td>106</td>\n",
       "      <td>227</td>\n",
       "      <td>NaN</td>\n",
       "    </tr>\n",
       "  </tbody>\n",
       "</table>\n",
       "</div>"
      ],
      "text/plain": [
       "     Unnamed: 0  BCS    Age     Sex  Length  Girth  Height  Weight  WeightAlt\n",
       "291         292  4.5  10-15  female     107    130     106     227        NaN"
      ]
     },
<<<<<<< HEAD
     "execution_count": 26,
=======
     "execution_count": 20,
>>>>>>> 951a092f7d1e7c28e1c8bdcc796b73ca36634a5c
     "metadata": {},
     "output_type": "execute_result"
    }
   ],
   "source": [
    "df[df['BCS']==4.5]"
   ]
  },
  {
   "cell_type": "code",
<<<<<<< HEAD
   "execution_count": 27,
   "metadata": {},
   "outputs": [],
   "source": [
=======
   "execution_count": 21,
   "metadata": {},
   "outputs": [],
   "source": [
    "#Remove outliers\n",
>>>>>>> 951a092f7d1e7c28e1c8bdcc796b73ca36634a5c
    "df = df.drop([8,291,445])"
   ]
  },
  {
   "cell_type": "code",
<<<<<<< HEAD
   "execution_count": 45,
   "metadata": {},
   "outputs": [],
   "source": [
    "# df = df.sort_values('Weight', ignore_index = True)\n",
    "df = df.sort_values(\"Weight\").reset_index(drop=True)"
=======
   "execution_count": 22,
   "metadata": {},
   "outputs": [],
   "source": [
    "df = df.sort_values('Weight', ignore_index = True)"
>>>>>>> 951a092f7d1e7c28e1c8bdcc796b73ca36634a5c
   ]
  },
  {
   "cell_type": "code",
<<<<<<< HEAD
   "execution_count": 46,
=======
   "execution_count": 23,
>>>>>>> 951a092f7d1e7c28e1c8bdcc796b73ca36634a5c
   "metadata": {},
   "outputs": [],
   "source": [
    "train = df[df.index % 5 != 4]  \n",
    "test = df[df.index % 5 == 4]"
   ]
  },
  {
   "cell_type": "code",
<<<<<<< HEAD
   "execution_count": 31,
   "metadata": {},
=======
   "execution_count": 25,
   "metadata": {},
   "outputs": [],
   "source": [
    "#Get most populous sample\n",
    "train = train[train['BCS'] == 3.0]\n",
    "train = train[train['Age'] != '<2']\n",
    "train = train[train['Age'] != '2-5']"
   ]
  },
  {
   "cell_type": "code",
   "execution_count": 26,
   "metadata": {},
   "outputs": [],
   "source": [
    "#Save training data\n",
    "train.to_csv('train_reproducing.csv')"
   ]
  },
  {
   "cell_type": "code",
   "execution_count": 27,
   "metadata": {},
   "outputs": [],
   "source": [
    "train['log_length'] = np.log(train['Length'])\n",
    "train['log_girth'] = np.log(train['Girth'])\n",
    "train['transformed_Weight'] = 2*(np.sqrt(train['Weight'])-1)"
   ]
  },
  {
   "cell_type": "code",
   "execution_count": 28,
   "metadata": {},
   "outputs": [
    {
     "name": "stdout",
     "output_type": "stream",
     "text": [
      "Intercept    -103.552621\n",
      "log_length      7.079724\n",
      "log_girth      19.799255\n",
      "dtype: float64\n"
     ]
    }
   ],
   "source": [
    "result = sm.ols(formula=\"transformed_Weight ~ log_length + log_girth\", data=train).fit()\n",
    "print(result.params)\n",
    "b0 = result.params['Intercept']\n",
    "b1 = result.params['log_length']\n",
    "b2 = result.params['log_girth']"
   ]
  },
  {
   "cell_type": "code",
   "execution_count": 29,
   "metadata": {},
   "outputs": [],
   "source": [
    "#Note that the values obtained are significantly different\n",
    "b0_given = -107\n",
    "b1_given = 19.91\n",
    "b2_given = 7.712"
   ]
  },
  {
   "cell_type": "code",
   "execution_count": 30,
   "metadata": {},
   "outputs": [],
   "source": [
    "def f(girth, b0, b1):\n",
    "    return b0 + b1*np.log(girth)"
   ]
  },
  {
   "cell_type": "code",
   "execution_count": 31,
   "metadata": {},
   "outputs": [],
   "source": [
    "def g(length, b2):\n",
    "    return b2*np.log(length)"
   ]
  },
  {
   "cell_type": "code",
   "execution_count": 32,
   "metadata": {},
   "outputs": [],
   "source": [
    "def h_inverse(h):\n",
    "    return ((h/2)+1)**2"
   ]
  },
  {
   "cell_type": "code",
   "execution_count": 33,
   "metadata": {},
   "outputs": [],
   "source": [
    "#Adjusted values\n",
    "bcs_dict = {1.5: -10, 2.0: -6, 2.5: -5, 3.0: 0, 3.5: 6, 4.0: 14}\n",
    "age_dict = {'<2': -8, '2-5': -4, '5-10': 0, '10-15': 0, '15-20': 0, '>20': 0}"
   ]
  },
  {
   "cell_type": "code",
   "execution_count": 34,
   "metadata": {},
   "outputs": [],
   "source": [
    "#Get prediction based on attributes\n",
    "def get_weight(bcs, age, length, girth, b0, b1, b2):\n",
    "    bcs_change = bcs_dict[bcs]\n",
    "    age_change = age_dict[age]\n",
    "    return h_inverse(f(girth, b0, b1) + g(length, b2))+ bcs_change + age_change"
   ]
  },
  {
   "cell_type": "code",
   "execution_count": 35,
   "metadata": {},
   "outputs": [
    {
     "name": "stdout",
     "output_type": "stream",
     "text": [
      "174.12239409550034\n",
      "146.6847951995766\n"
     ]
    }
   ],
   "source": [
    "#Reproducing example given, we note significant differences in predictions using beta values we obtained\n",
    "print(get_weight(3, '5-10', 103, 122, b0_given, b1_given, b2_given))\n",
    "print(get_weight(3, '5-10', 103, 122, b0, b1, b2))"
   ]
  },
  {
   "cell_type": "code",
   "execution_count": 36,
   "metadata": {},
   "outputs": [],
   "source": [
    "#We shall continue with the beta values they provided"
   ]
  },
  {
   "cell_type": "code",
   "execution_count": 37,
   "metadata": {},
>>>>>>> 951a092f7d1e7c28e1c8bdcc796b73ca36634a5c
   "outputs": [
    {
     "data": {
      "text/html": [
       "<div>\n",
       "<style scoped>\n",
       "    .dataframe tbody tr th:only-of-type {\n",
       "        vertical-align: middle;\n",
       "    }\n",
       "\n",
       "    .dataframe tbody tr th {\n",
       "        vertical-align: top;\n",
       "    }\n",
       "\n",
       "    .dataframe thead th {\n",
       "        text-align: right;\n",
       "    }\n",
       "</style>\n",
       "<table border=\"1\" class=\"dataframe\">\n",
       "  <thead>\n",
       "    <tr style=\"text-align: right;\">\n",
       "      <th></th>\n",
       "      <th>Unnamed: 0</th>\n",
       "      <th>BCS</th>\n",
       "      <th>Age</th>\n",
       "      <th>Sex</th>\n",
       "      <th>Length</th>\n",
       "      <th>Girth</th>\n",
       "      <th>Height</th>\n",
       "      <th>Weight</th>\n",
       "      <th>WeightAlt</th>\n",
       "    </tr>\n",
       "  </thead>\n",
       "  <tbody>\n",
       "    <tr>\n",
<<<<<<< HEAD
       "      <td>4</td>\n",
       "      <td>5</td>\n",
       "      <td>2.5</td>\n",
       "      <td>&lt;2</td>\n",
       "      <td>female</td>\n",
       "      <td>79</td>\n",
       "      <td>98</td>\n",
       "      <td>91</td>\n",
       "      <td>91</td>\n",
       "      <td>NaN</td>\n",
       "    </tr>\n",
       "    <tr>\n",
       "      <td>9</td>\n",
       "      <td>10</td>\n",
       "      <td>3.0</td>\n",
       "      <td>&lt;2</td>\n",
       "      <td>stallion</td>\n",
       "      <td>92</td>\n",
       "      <td>110</td>\n",
       "      <td>99</td>\n",
       "      <td>141</td>\n",
       "      <td>NaN</td>\n",
       "    </tr>\n",
       "    <tr>\n",
       "      <td>14</td>\n",
       "      <td>15</td>\n",
       "      <td>2.5</td>\n",
       "      <td>&lt;2</td>\n",
       "      <td>female</td>\n",
       "      <td>87</td>\n",
       "      <td>110</td>\n",
       "      <td>97</td>\n",
       "      <td>112</td>\n",
       "      <td>NaN</td>\n",
       "    </tr>\n",
       "    <tr>\n",
       "      <td>19</td>\n",
       "      <td>20</td>\n",
=======
       "      <th>4</th>\n",
       "      <td>45</td>\n",
       "      <td>3.0</td>\n",
       "      <td>&lt;2</td>\n",
       "      <td>female</td>\n",
       "      <td>80</td>\n",
       "      <td>94</td>\n",
       "      <td>89</td>\n",
       "      <td>75</td>\n",
       "      <td>NaN</td>\n",
       "    </tr>\n",
       "    <tr>\n",
       "      <th>9</th>\n",
       "      <td>33</td>\n",
       "      <td>2.5</td>\n",
       "      <td>&lt;2</td>\n",
       "      <td>stallion</td>\n",
       "      <td>72</td>\n",
       "      <td>97</td>\n",
       "      <td>94</td>\n",
       "      <td>89</td>\n",
       "      <td>NaN</td>\n",
       "    </tr>\n",
       "    <tr>\n",
       "      <th>14</th>\n",
       "      <td>17</td>\n",
       "      <td>2.5</td>\n",
       "      <td>&lt;2</td>\n",
       "      <td>stallion</td>\n",
       "      <td>79</td>\n",
       "      <td>100</td>\n",
       "      <td>90</td>\n",
       "      <td>94</td>\n",
       "      <td>NaN</td>\n",
       "    </tr>\n",
       "    <tr>\n",
       "      <th>19</th>\n",
       "      <td>37</td>\n",
>>>>>>> 951a092f7d1e7c28e1c8bdcc796b73ca36634a5c
       "      <td>2.5</td>\n",
       "      <td>&lt;2</td>\n",
       "      <td>female</td>\n",
       "      <td>87</td>\n",
<<<<<<< HEAD
       "      <td>112</td>\n",
       "      <td>98</td>\n",
       "      <td>127</td>\n",
       "      <td>NaN</td>\n",
       "    </tr>\n",
       "    <tr>\n",
       "      <td>24</td>\n",
       "      <td>25</td>\n",
       "      <td>2.5</td>\n",
       "      <td>&lt;2</td>\n",
       "      <td>female</td>\n",
       "      <td>79</td>\n",
       "      <td>95</td>\n",
       "      <td>92</td>\n",
       "      <td>86</td>\n",
=======
       "      <td>100</td>\n",
       "      <td>98</td>\n",
       "      <td>96</td>\n",
       "      <td>NaN</td>\n",
       "    </tr>\n",
       "    <tr>\n",
       "      <th>24</th>\n",
       "      <td>24</td>\n",
       "      <td>2.5</td>\n",
       "      <td>&lt;2</td>\n",
       "      <td>female</td>\n",
       "      <td>85</td>\n",
       "      <td>100</td>\n",
       "      <td>96</td>\n",
       "      <td>102</td>\n",
>>>>>>> 951a092f7d1e7c28e1c8bdcc796b73ca36634a5c
       "      <td>NaN</td>\n",
       "    </tr>\n",
       "  </tbody>\n",
       "</table>\n",
       "</div>"
      ],
      "text/plain": [
       "    Unnamed: 0  BCS Age       Sex  Length  Girth  Height  Weight  WeightAlt\n",
<<<<<<< HEAD
       "4            5  2.5  <2    female      79     98      91      91        NaN\n",
       "9           10  3.0  <2  stallion      92    110      99     141        NaN\n",
       "14          15  2.5  <2    female      87    110      97     112        NaN\n",
       "19          20  2.5  <2    female      87    112      98     127        NaN\n",
       "24          25  2.5  <2    female      79     95      92      86        NaN"
      ]
     },
     "execution_count": 31,
=======
       "4           45  3.0  <2    female      80     94      89      75        NaN\n",
       "9           33  2.5  <2  stallion      72     97      94      89        NaN\n",
       "14          17  2.5  <2  stallion      79    100      90      94        NaN\n",
       "19          37  2.5  <2    female      87    100      98      96        NaN\n",
       "24          24  2.5  <2    female      85    100      96     102        NaN"
      ]
     },
     "execution_count": 37,
>>>>>>> 951a092f7d1e7c28e1c8bdcc796b73ca36634a5c
     "metadata": {},
     "output_type": "execute_result"
    }
   ],
   "source": [
    "test.head()"
   ]
  },
  {
   "cell_type": "code",
<<<<<<< HEAD
   "execution_count": null,
   "metadata": {},
   "outputs": [],
   "source": []
  },
  {
   "cell_type": "code",
   "execution_count": 32,
=======
   "execution_count": 38,
>>>>>>> 951a092f7d1e7c28e1c8bdcc796b73ca36634a5c
   "metadata": {},
   "outputs": [
    {
     "name": "stderr",
     "output_type": "stream",
     "text": [
<<<<<<< HEAD
      "C:\\Users\\danie\\Anaconda3\\lib\\site-packages\\ipykernel_launcher.py:1: SettingWithCopyWarning: \n",
      "A value is trying to be set on a copy of a slice from a DataFrame.\n",
      "Try using .loc[row_indexer,col_indexer] = value instead\n",
      "\n",
      "See the caveats in the documentation: http://pandas.pydata.org/pandas-docs/stable/user_guide/indexing.html#returning-a-view-versus-a-copy\n",
=======
      "/opt/anaconda3/lib/python3.7/site-packages/ipykernel_launcher.py:1: SettingWithCopyWarning: \n",
      "A value is trying to be set on a copy of a slice from a DataFrame.\n",
      "Try using .loc[row_indexer,col_indexer] = value instead\n",
      "\n",
      "See the caveats in the documentation: https://pandas.pydata.org/pandas-docs/stable/user_guide/indexing.html#returning-a-view-versus-a-copy\n",
>>>>>>> 951a092f7d1e7c28e1c8bdcc796b73ca36634a5c
      "  \"\"\"Entry point for launching an IPython kernel.\n"
     ]
    }
   ],
   "source": [
    "test['Prediction'] = np.nan"
   ]
  },
  {
   "cell_type": "code",
<<<<<<< HEAD
   "execution_count": 33,
=======
   "execution_count": 39,
>>>>>>> 951a092f7d1e7c28e1c8bdcc796b73ca36634a5c
   "metadata": {},
   "outputs": [],
   "source": [
    "for index, row in test.iterrows():\n",
    "    bcs = row['BCS']\n",
    "    age = row['Age']\n",
    "    girth = row['Girth']\n",
    "    length = row['Length']\n",
<<<<<<< HEAD
    "    test.at[index,'Prediction'] = get_weight(bcs, age, length, girth)"
=======
    "    test.at[index,'Prediction'] = get_weight(bcs, age, length, girth, b0_given, b1_given, b2_given)"
>>>>>>> 951a092f7d1e7c28e1c8bdcc796b73ca36634a5c
   ]
  },
  {
   "cell_type": "code",
<<<<<<< HEAD
   "execution_count": 34,
=======
   "execution_count": 40,
>>>>>>> 951a092f7d1e7c28e1c8bdcc796b73ca36634a5c
   "metadata": {},
   "outputs": [
    {
     "data": {
      "text/html": [
       "<div>\n",
       "<style scoped>\n",
       "    .dataframe tbody tr th:only-of-type {\n",
       "        vertical-align: middle;\n",
       "    }\n",
       "\n",
       "    .dataframe tbody tr th {\n",
       "        vertical-align: top;\n",
       "    }\n",
       "\n",
       "    .dataframe thead th {\n",
       "        text-align: right;\n",
       "    }\n",
       "</style>\n",
       "<table border=\"1\" class=\"dataframe\">\n",
       "  <thead>\n",
       "    <tr style=\"text-align: right;\">\n",
       "      <th></th>\n",
       "      <th>Unnamed: 0</th>\n",
       "      <th>BCS</th>\n",
       "      <th>Age</th>\n",
       "      <th>Sex</th>\n",
       "      <th>Length</th>\n",
       "      <th>Girth</th>\n",
       "      <th>Height</th>\n",
       "      <th>Weight</th>\n",
       "      <th>WeightAlt</th>\n",
       "      <th>Prediction</th>\n",
       "    </tr>\n",
       "  </thead>\n",
       "  <tbody>\n",
       "    <tr>\n",
<<<<<<< HEAD
       "      <td>4</td>\n",
       "      <td>5</td>\n",
       "      <td>2.5</td>\n",
       "      <td>&lt;2</td>\n",
       "      <td>female</td>\n",
       "      <td>79</td>\n",
       "      <td>98</td>\n",
       "      <td>91</td>\n",
       "      <td>91</td>\n",
       "      <td>NaN</td>\n",
       "      <td>86.838908</td>\n",
       "    </tr>\n",
       "    <tr>\n",
       "      <td>9</td>\n",
       "      <td>10</td>\n",
       "      <td>3.0</td>\n",
       "      <td>&lt;2</td>\n",
       "      <td>stallion</td>\n",
       "      <td>92</td>\n",
       "      <td>110</td>\n",
       "      <td>99</td>\n",
       "      <td>141</td>\n",
       "      <td>NaN</td>\n",
       "      <td>129.576450</td>\n",
       "    </tr>\n",
       "    <tr>\n",
       "      <td>14</td>\n",
       "      <td>15</td>\n",
       "      <td>2.5</td>\n",
       "      <td>&lt;2</td>\n",
       "      <td>female</td>\n",
       "      <td>87</td>\n",
       "      <td>110</td>\n",
       "      <td>97</td>\n",
       "      <td>112</td>\n",
       "      <td>NaN</td>\n",
       "      <td>119.568137</td>\n",
       "    </tr>\n",
       "    <tr>\n",
       "      <td>19</td>\n",
       "      <td>20</td>\n",
=======
       "      <th>4</th>\n",
       "      <td>45</td>\n",
       "      <td>3.0</td>\n",
       "      <td>&lt;2</td>\n",
       "      <td>female</td>\n",
       "      <td>80</td>\n",
       "      <td>94</td>\n",
       "      <td>89</td>\n",
       "      <td>75</td>\n",
       "      <td>NaN</td>\n",
       "      <td>84.652065</td>\n",
       "    </tr>\n",
       "    <tr>\n",
       "      <th>9</th>\n",
       "      <td>33</td>\n",
       "      <td>2.5</td>\n",
       "      <td>&lt;2</td>\n",
       "      <td>stallion</td>\n",
       "      <td>72</td>\n",
       "      <td>97</td>\n",
       "      <td>94</td>\n",
       "      <td>89</td>\n",
       "      <td>NaN</td>\n",
       "      <td>77.860403</td>\n",
       "    </tr>\n",
       "    <tr>\n",
       "      <th>14</th>\n",
       "      <td>17</td>\n",
       "      <td>2.5</td>\n",
       "      <td>&lt;2</td>\n",
       "      <td>stallion</td>\n",
       "      <td>79</td>\n",
       "      <td>100</td>\n",
       "      <td>90</td>\n",
       "      <td>94</td>\n",
       "      <td>NaN</td>\n",
       "      <td>90.898475</td>\n",
       "    </tr>\n",
       "    <tr>\n",
       "      <th>19</th>\n",
       "      <td>37</td>\n",
>>>>>>> 951a092f7d1e7c28e1c8bdcc796b73ca36634a5c
       "      <td>2.5</td>\n",
       "      <td>&lt;2</td>\n",
       "      <td>female</td>\n",
       "      <td>87</td>\n",
<<<<<<< HEAD
       "      <td>112</td>\n",
       "      <td>98</td>\n",
       "      <td>127</td>\n",
       "      <td>NaN</td>\n",
       "      <td>123.730879</td>\n",
       "    </tr>\n",
       "    <tr>\n",
       "      <td>24</td>\n",
       "      <td>25</td>\n",
       "      <td>2.5</td>\n",
       "      <td>&lt;2</td>\n",
       "      <td>female</td>\n",
       "      <td>79</td>\n",
       "      <td>95</td>\n",
       "      <td>92</td>\n",
       "      <td>86</td>\n",
       "      <td>NaN</td>\n",
       "      <td>80.749555</td>\n",
=======
       "      <td>100</td>\n",
       "      <td>98</td>\n",
       "      <td>96</td>\n",
       "      <td>NaN</td>\n",
       "      <td>98.619455</td>\n",
       "    </tr>\n",
       "    <tr>\n",
       "      <th>24</th>\n",
       "      <td>24</td>\n",
       "      <td>2.5</td>\n",
       "      <td>&lt;2</td>\n",
       "      <td>female</td>\n",
       "      <td>85</td>\n",
       "      <td>100</td>\n",
       "      <td>96</td>\n",
       "      <td>102</td>\n",
       "      <td>NaN</td>\n",
       "      <td>96.732590</td>\n",
>>>>>>> 951a092f7d1e7c28e1c8bdcc796b73ca36634a5c
       "    </tr>\n",
       "  </tbody>\n",
       "</table>\n",
       "</div>"
      ],
      "text/plain": [
       "    Unnamed: 0  BCS Age       Sex  Length  Girth  Height  Weight  WeightAlt  \\\n",
<<<<<<< HEAD
       "4            5  2.5  <2    female      79     98      91      91        NaN   \n",
       "9           10  3.0  <2  stallion      92    110      99     141        NaN   \n",
       "14          15  2.5  <2    female      87    110      97     112        NaN   \n",
       "19          20  2.5  <2    female      87    112      98     127        NaN   \n",
       "24          25  2.5  <2    female      79     95      92      86        NaN   \n",
       "\n",
       "    Prediction  \n",
       "4    86.838908  \n",
       "9   129.576450  \n",
       "14  119.568137  \n",
       "19  123.730879  \n",
       "24   80.749555  "
      ]
     },
     "execution_count": 34,
=======
       "4           45  3.0  <2    female      80     94      89      75        NaN   \n",
       "9           33  2.5  <2  stallion      72     97      94      89        NaN   \n",
       "14          17  2.5  <2  stallion      79    100      90      94        NaN   \n",
       "19          37  2.5  <2    female      87    100      98      96        NaN   \n",
       "24          24  2.5  <2    female      85    100      96     102        NaN   \n",
       "\n",
       "    Prediction  \n",
       "4    84.652065  \n",
       "9    77.860403  \n",
       "14   90.898475  \n",
       "19   98.619455  \n",
       "24   96.732590  "
      ]
     },
     "execution_count": 40,
>>>>>>> 951a092f7d1e7c28e1c8bdcc796b73ca36634a5c
     "metadata": {},
     "output_type": "execute_result"
    }
   ],
   "source": [
    "test.head()"
   ]
  },
  {
   "cell_type": "code",
<<<<<<< HEAD
   "execution_count": 35,
=======
   "execution_count": 41,
>>>>>>> 951a092f7d1e7c28e1c8bdcc796b73ca36634a5c
   "metadata": {},
   "outputs": [],
   "source": [
    "true_weights = np.array(test['Weight'])\n",
    "predicted_weights = np.array(test['Prediction'])"
   ]
  },
  {
   "cell_type": "code",
<<<<<<< HEAD
   "execution_count": 36,
   "metadata": {},
   "outputs": [
    {
     "data": {
      "text/plain": [
       "Text(0, 0.5, 'Actual weight, kg')"
      ]
     },
     "execution_count": 36,
     "metadata": {},
     "output_type": "execute_result"
    },
    {
     "data": {
      "image/png": "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\n",
      "text/plain": [
       "<Figure size 720x720 with 1 Axes>"
      ]
     },
     "metadata": {
      "needs_background": "light"
     },
     "output_type": "display_data"
    }
   ],
   "source": [
    "plt.figure(figsize=(10, 10))\n",
    "y = np.arange(75,226)\n",
    "x_actual = y\n",
    "x_plus10 = y*1.1\n",
    "x_plus20 = y*1.2\n",
    "x_neg10 = y*0.9\n",
    "x_neg20 = y*0.8\n",
    "plt.scatter(predicted_weights, true_weights, s = 20, c='r')\n",
    "#plt.plot(predicted_weights, true_weights,'ro')\n",
    "plt.plot(x_actual, y)\n",
    "plt.plot(x_plus10, y, color='grey', linestyle='dashed')\n",
    "plt.plot(x_neg10, y, color='grey', linestyle='dashed')\n",
    "plt.plot(x_plus20, y, color='grey', linestyle='dotted')\n",
    "plt.plot(x_neg20, y, color='grey', linestyle='dotted')\n",
    "plt.xlim(75,225)\n",
    "plt.xticks(np.arange(75,230,25))\n",
    "plt.yticks(np.arange(75,230,25))\n",
    "plt.xlabel('Predicted weight, kg')\n",
    "plt.ylabel('Actual weight, kg')"
   ]
  },
  {
   "cell_type": "code",
   "execution_count": 139,
=======
   "execution_count": 42,
>>>>>>> 951a092f7d1e7c28e1c8bdcc796b73ca36634a5c
   "metadata": {},
   "outputs": [
    {
     "data": {
      "text/plain": [
       "Text(0, 0.5, 'Actual weight, kg')"
      ]
     },
<<<<<<< HEAD
     "execution_count": 139,
=======
     "execution_count": 42,
>>>>>>> 951a092f7d1e7c28e1c8bdcc796b73ca36634a5c
     "metadata": {},
     "output_type": "execute_result"
    },
    {
     "data": {
<<<<<<< HEAD
      "image/png": "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\n",
=======
      "image/png": "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\n",
>>>>>>> 951a092f7d1e7c28e1c8bdcc796b73ca36634a5c
      "text/plain": [
       "<Figure size 720x720 with 1 Axes>"
      ]
     },
     "metadata": {
      "needs_background": "light"
     },
     "output_type": "display_data"
    }
   ],
   "source": [
    "plt.figure(figsize=(10, 10))\n",
    "y = np.arange(75,226)\n",
    "x_actual = y\n",
    "x_plus10 = y*1.1\n",
    "x_plus20 = y*1.2\n",
    "x_neg10 = y*0.9\n",
    "x_neg20 = y*0.8\n",
    "plt.scatter(predicted_weights, true_weights, s = 20, c='r')\n",
    "#plt.plot(predicted_weights, true_weights,'ro')\n",
    "plt.plot(x_actual, y)\n",
    "plt.plot(x_plus10, y, color='grey', linestyle='dashed')\n",
    "plt.plot(x_neg10, y, color='grey', linestyle='dashed')\n",
    "plt.plot(x_plus20, y, color='grey', linestyle='dotted')\n",
    "plt.plot(x_neg20, y, color='grey', linestyle='dotted')\n",
    "plt.xlim(75,225)\n",
    "plt.xticks(np.arange(75,230,25))\n",
    "plt.yticks(np.arange(75,230,25))\n",
    "plt.xlabel('Predicted weight, kg')\n",
    "plt.ylabel('Actual weight, kg')"
   ]
  },
  {
   "cell_type": "code",
<<<<<<< HEAD
   "execution_count": 37,
=======
   "execution_count": 43,
>>>>>>> 951a092f7d1e7c28e1c8bdcc796b73ca36634a5c
   "metadata": {},
   "outputs": [],
   "source": [
    "residuals = true_weights - predicted_weights"
   ]
  },
  {
   "cell_type": "code",
<<<<<<< HEAD
   "execution_count": 38,
   "metadata": {},
   "outputs": [
    {
     "data": {
      "image/png": "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\n",
      "text/plain": [
       "<Figure size 576x576 with 1 Axes>"
      ]
     },
     "metadata": {
      "needs_background": "light"
     },
     "output_type": "display_data"
    }
   ],
   "source": [
    "plt.figure(figsize=(8, 8))\n",
    "x = np.arange(1,109)\n",
    "y = np.zeros(108)\n",
    "plt.scatter(x,residuals)\n",
    "plt.plot(x,y,color='r')\n",
    "plt.show()"
   ]
  },
  {
   "cell_type": "code",
   "execution_count": 151,
=======
   "execution_count": 44,
>>>>>>> 951a092f7d1e7c28e1c8bdcc796b73ca36634a5c
   "metadata": {},
   "outputs": [
    {
     "data": {
<<<<<<< HEAD
      "image/png": "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\n",
=======
      "image/png": "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\n",
>>>>>>> 951a092f7d1e7c28e1c8bdcc796b73ca36634a5c
      "text/plain": [
       "<Figure size 576x576 with 1 Axes>"
      ]
     },
     "metadata": {
      "needs_background": "light"
     },
     "output_type": "display_data"
    }
   ],
   "source": [
    "plt.figure(figsize=(8, 8))\n",
    "x = np.arange(1,109)\n",
    "y = np.zeros(108)\n",
    "plt.scatter(x,residuals)\n",
    "plt.plot(x,y,color='r')\n",
    "plt.show()"
   ]
  },
  {
   "cell_type": "code",
<<<<<<< HEAD
   "execution_count": 39,
=======
   "execution_count": 45,
>>>>>>> 951a092f7d1e7c28e1c8bdcc796b73ca36634a5c
   "metadata": {},
   "outputs": [
    {
     "name": "stdout",
     "output_type": "stream",
     "text": [
<<<<<<< HEAD
      "80.91666805524885\n"
=======
      "82.44431412924769\n"
>>>>>>> 951a092f7d1e7c28e1c8bdcc796b73ca36634a5c
     ]
    }
   ],
   "source": [
    "MSE = np.mean(residuals**2)\n",
    "print(MSE)"
   ]
<<<<<<< HEAD
  },
  {
   "cell_type": "code",
   "execution_count": null,
   "metadata": {},
   "outputs": [],
   "source": []
=======
>>>>>>> 951a092f7d1e7c28e1c8bdcc796b73ca36634a5c
  }
 ],
 "metadata": {
  "kernelspec": {
   "display_name": "Python 3",
   "language": "python",
   "name": "python3"
  },
  "language_info": {
   "codemirror_mode": {
    "name": "ipython",
    "version": 3
   },
   "file_extension": ".py",
   "mimetype": "text/x-python",
   "name": "python",
   "nbconvert_exporter": "python",
   "pygments_lexer": "ipython3",
<<<<<<< HEAD
   "version": "3.7.4"
  },
  "varInspector": {
   "cols": {
    "lenName": 16,
    "lenType": 16,
    "lenVar": 40
   },
   "kernels_config": {
    "python": {
     "delete_cmd_postfix": "",
     "delete_cmd_prefix": "del ",
     "library": "var_list.py",
     "varRefreshCmd": "print(var_dic_list())"
    },
    "r": {
     "delete_cmd_postfix": ") ",
     "delete_cmd_prefix": "rm(",
     "library": "var_list.r",
     "varRefreshCmd": "cat(var_dic_list()) "
    }
   },
   "types_to_exclude": [
    "module",
    "function",
    "builtin_function_or_method",
    "instance",
    "_Feature"
   ],
   "window_display": false
=======
   "version": "3.7.6"
>>>>>>> 951a092f7d1e7c28e1c8bdcc796b73ca36634a5c
  }
 },
 "nbformat": 4,
 "nbformat_minor": 4
}
